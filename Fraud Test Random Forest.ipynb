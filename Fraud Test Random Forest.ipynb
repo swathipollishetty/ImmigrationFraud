{
 "cells": [
  {
   "cell_type": "code",
   "execution_count": 31,
   "metadata": {},
   "outputs": [
    {
     "data": {
      "text/plain": [
       "'C:\\\\Users\\\\Jiwon Chang\\\\Desktop\\\\FALL 2021\\\\DAEN 690'"
      ]
     },
     "execution_count": 31,
     "metadata": {},
     "output_type": "execute_result"
    }
   ],
   "source": [
    "import re\n",
    "import os  # for OS interface (to get/change directory)\n",
    "# display and set working/data directory\n",
    "os.getcwd()\n",
    "os.chdir('C:/Users/Jiwon Chang/Desktop/FALL 2021/DAEN 690')\n",
    "os.getcwd()"
   ]
  },
  {
   "cell_type": "code",
   "execution_count": 32,
   "metadata": {},
   "outputs": [],
   "source": [
    "#import required packages\n",
    "import pandas as pd\n",
    "import numpy as np\n",
    "from sklearn import preprocessing\n",
    "import matplotlib.pyplot as plt \n",
    "from sklearn.model_selection import train_test_split"
   ]
  },
  {
   "cell_type": "code",
   "execution_count": 33,
   "metadata": {
    "scrolled": false
   },
   "outputs": [
    {
     "name": "stdout",
     "output_type": "stream",
     "text": [
      "(9960, 18)\n",
      "['Fraud', 'Years_Married', 'Children', 'ChildrenBeforeMarriage_Uscitizen', 'Previously_Married_Uscitizen', 'Previously_Denied_Visa_Immigrant', 'Foreign_Residence_Requirement_Immigrant', 'History_of_Crime_UScitizen', 'Expired_Passport_Marriage', 'HigherEducation_Uscitizen', 'Employment_Uscitizen', 'Employment_Immigrant', 'Annual_Income_Immigrant', 'Annual_Income_Uscitizen', 'Sex_Immigrant', 'Sex_Uscitizen', 'HigherEducation_Immigrant', 'Citizenship_Immigrant']\n"
     ]
    }
   ],
   "source": [
    "#import dataset without unwanted columns \n",
    "dataset=pd.read_csv('GCMF10k_6.csv')\n",
    "dataset=dataset.dropna()\n",
    "dataset=dataset.filter([\"Fraud\",\"Years_Married\", \"Children\", \"ChildrenBeforeMarriage_Uscitizen\",\n",
    "                        \"Previously_Married_Uscitizen\", \"Previously_Denied_Visa_Immigrant\",\n",
    "                        \"Foreign_Residence_Requirement_Immigrant\",\"History_of_Crime_UScitizen\",\n",
    "                        \"Expired_Passport_Marriage\" ,\"HigherEducation_Uscitizen\", \"Employment_Uscitizen\",\n",
    "                        \"Employment_Immigrant\",\"Annual_Income_Immigrant\",\"Annual_Income_Uscitizen\",\n",
    "                        \"Sex_Immigrant\",\"Sex_Uscitizen\",\"HigherEducation_Immigrant\",\"Citizenship_Immigrant\"])\n",
    "\n",
    "print(dataset.shape)\n",
    "print(list(dataset.columns))"
   ]
  },
  {
   "cell_type": "code",
   "execution_count": 34,
   "metadata": {},
   "outputs": [
    {
     "data": {
      "text/html": [
       "<div>\n",
       "<style scoped>\n",
       "    .dataframe tbody tr th:only-of-type {\n",
       "        vertical-align: middle;\n",
       "    }\n",
       "\n",
       "    .dataframe tbody tr th {\n",
       "        vertical-align: top;\n",
       "    }\n",
       "\n",
       "    .dataframe thead th {\n",
       "        text-align: right;\n",
       "    }\n",
       "</style>\n",
       "<table border=\"1\" class=\"dataframe\">\n",
       "  <thead>\n",
       "    <tr style=\"text-align: right;\">\n",
       "      <th></th>\n",
       "      <th>Years_Married</th>\n",
       "      <th>Children</th>\n",
       "    </tr>\n",
       "  </thead>\n",
       "  <tbody>\n",
       "    <tr>\n",
       "      <th>count</th>\n",
       "      <td>9960.000000</td>\n",
       "      <td>9960.000000</td>\n",
       "    </tr>\n",
       "    <tr>\n",
       "      <th>mean</th>\n",
       "      <td>7.495080</td>\n",
       "      <td>1.263554</td>\n",
       "    </tr>\n",
       "    <tr>\n",
       "      <th>std</th>\n",
       "      <td>4.594598</td>\n",
       "      <td>1.747466</td>\n",
       "    </tr>\n",
       "    <tr>\n",
       "      <th>min</th>\n",
       "      <td>0.000000</td>\n",
       "      <td>0.000000</td>\n",
       "    </tr>\n",
       "    <tr>\n",
       "      <th>25%</th>\n",
       "      <td>3.000000</td>\n",
       "      <td>0.000000</td>\n",
       "    </tr>\n",
       "    <tr>\n",
       "      <th>50%</th>\n",
       "      <td>7.000000</td>\n",
       "      <td>0.000000</td>\n",
       "    </tr>\n",
       "    <tr>\n",
       "      <th>75%</th>\n",
       "      <td>12.000000</td>\n",
       "      <td>3.000000</td>\n",
       "    </tr>\n",
       "    <tr>\n",
       "      <th>max</th>\n",
       "      <td>15.000000</td>\n",
       "      <td>5.000000</td>\n",
       "    </tr>\n",
       "  </tbody>\n",
       "</table>\n",
       "</div>"
      ],
      "text/plain": [
       "       Years_Married     Children\n",
       "count    9960.000000  9960.000000\n",
       "mean        7.495080     1.263554\n",
       "std         4.594598     1.747466\n",
       "min         0.000000     0.000000\n",
       "25%         3.000000     0.000000\n",
       "50%         7.000000     0.000000\n",
       "75%        12.000000     3.000000\n",
       "max        15.000000     5.000000"
      ]
     },
     "execution_count": 34,
     "metadata": {},
     "output_type": "execute_result"
    }
   ],
   "source": [
    "dataset.describe()"
   ]
  },
  {
   "cell_type": "code",
   "execution_count": 35,
   "metadata": {},
   "outputs": [
    {
     "data": {
      "text/html": [
       "<div>\n",
       "<style scoped>\n",
       "    .dataframe tbody tr th:only-of-type {\n",
       "        vertical-align: middle;\n",
       "    }\n",
       "\n",
       "    .dataframe tbody tr th {\n",
       "        vertical-align: top;\n",
       "    }\n",
       "\n",
       "    .dataframe thead th {\n",
       "        text-align: right;\n",
       "    }\n",
       "</style>\n",
       "<table border=\"1\" class=\"dataframe\">\n",
       "  <thead>\n",
       "    <tr style=\"text-align: right;\">\n",
       "      <th></th>\n",
       "      <th>Years_Married</th>\n",
       "      <th>Children</th>\n",
       "      <th>ChildrenBeforeMarriage_Uscitizen</th>\n",
       "      <th>Previously_Married_Uscitizen</th>\n",
       "      <th>Previously_Denied_Visa_Immigrant</th>\n",
       "      <th>Foreign_Residence_Requirement_Immigrant</th>\n",
       "      <th>History_of_Crime_UScitizen</th>\n",
       "      <th>Expired_Passport_Marriage</th>\n",
       "      <th>HigherEducation_Uscitizen</th>\n",
       "      <th>Employment_Uscitizen</th>\n",
       "      <th>Employment_Immigrant</th>\n",
       "      <th>Annual_Income_Immigrant</th>\n",
       "      <th>Annual_Income_Uscitizen</th>\n",
       "      <th>Sex_Immigrant</th>\n",
       "      <th>Sex_Uscitizen</th>\n",
       "      <th>HigherEducation_Immigrant</th>\n",
       "      <th>Citizenship_Immigrant</th>\n",
       "    </tr>\n",
       "  </thead>\n",
       "  <tbody>\n",
       "    <tr>\n",
       "      <th>0</th>\n",
       "      <td>6</td>\n",
       "      <td>0</td>\n",
       "      <td>Yes</td>\n",
       "      <td>Yes</td>\n",
       "      <td>Yes</td>\n",
       "      <td>No</td>\n",
       "      <td>No</td>\n",
       "      <td>No</td>\n",
       "      <td>No</td>\n",
       "      <td>Temporary</td>\n",
       "      <td>FT</td>\n",
       "      <td>$138,348.00</td>\n",
       "      <td>$49,296.00</td>\n",
       "      <td>M</td>\n",
       "      <td>F</td>\n",
       "      <td>No</td>\n",
       "      <td>Vietnam</td>\n",
       "    </tr>\n",
       "    <tr>\n",
       "      <th>1</th>\n",
       "      <td>1</td>\n",
       "      <td>0</td>\n",
       "      <td>Yes</td>\n",
       "      <td>No</td>\n",
       "      <td>No</td>\n",
       "      <td>Yes</td>\n",
       "      <td>Yes</td>\n",
       "      <td>Yes</td>\n",
       "      <td>No</td>\n",
       "      <td>FT</td>\n",
       "      <td>FT</td>\n",
       "      <td>$180,444.00</td>\n",
       "      <td>$176,304.00</td>\n",
       "      <td>M</td>\n",
       "      <td>F</td>\n",
       "      <td>Yes</td>\n",
       "      <td>Vietnam</td>\n",
       "    </tr>\n",
       "    <tr>\n",
       "      <th>2</th>\n",
       "      <td>4</td>\n",
       "      <td>0</td>\n",
       "      <td>Yes</td>\n",
       "      <td>Yes</td>\n",
       "      <td>No</td>\n",
       "      <td>No</td>\n",
       "      <td>No</td>\n",
       "      <td>No</td>\n",
       "      <td>No</td>\n",
       "      <td>PT</td>\n",
       "      <td>FT</td>\n",
       "      <td>$89,580.00</td>\n",
       "      <td>$47,184.00</td>\n",
       "      <td>M</td>\n",
       "      <td>F</td>\n",
       "      <td>Yes</td>\n",
       "      <td>Guatemala</td>\n",
       "    </tr>\n",
       "    <tr>\n",
       "      <th>3</th>\n",
       "      <td>14</td>\n",
       "      <td>0</td>\n",
       "      <td>No</td>\n",
       "      <td>Yes</td>\n",
       "      <td>Yes</td>\n",
       "      <td>No</td>\n",
       "      <td>Yes</td>\n",
       "      <td>No</td>\n",
       "      <td>No</td>\n",
       "      <td>PT</td>\n",
       "      <td>FT</td>\n",
       "      <td>$179,400.00</td>\n",
       "      <td>$58,092.00</td>\n",
       "      <td>M</td>\n",
       "      <td>F</td>\n",
       "      <td>Yes</td>\n",
       "      <td>El Salvador</td>\n",
       "    </tr>\n",
       "    <tr>\n",
       "      <th>4</th>\n",
       "      <td>6</td>\n",
       "      <td>0</td>\n",
       "      <td>Yes</td>\n",
       "      <td>No</td>\n",
       "      <td>No</td>\n",
       "      <td>No</td>\n",
       "      <td>Yes</td>\n",
       "      <td>No</td>\n",
       "      <td>No</td>\n",
       "      <td>Temporary</td>\n",
       "      <td>PT</td>\n",
       "      <td>$45,696.00</td>\n",
       "      <td>$57,312.00</td>\n",
       "      <td>M</td>\n",
       "      <td>F</td>\n",
       "      <td>No</td>\n",
       "      <td>Philippines</td>\n",
       "    </tr>\n",
       "  </tbody>\n",
       "</table>\n",
       "</div>"
      ],
      "text/plain": [
       "   Years_Married  Children ChildrenBeforeMarriage_Uscitizen  \\\n",
       "0              6         0                              Yes   \n",
       "1              1         0                              Yes   \n",
       "2              4         0                              Yes   \n",
       "3             14         0                               No   \n",
       "4              6         0                              Yes   \n",
       "\n",
       "  Previously_Married_Uscitizen Previously_Denied_Visa_Immigrant  \\\n",
       "0                          Yes                              Yes   \n",
       "1                           No                               No   \n",
       "2                          Yes                               No   \n",
       "3                          Yes                              Yes   \n",
       "4                           No                               No   \n",
       "\n",
       "  Foreign_Residence_Requirement_Immigrant History_of_Crime_UScitizen  \\\n",
       "0                                      No                         No   \n",
       "1                                     Yes                        Yes   \n",
       "2                                      No                         No   \n",
       "3                                      No                        Yes   \n",
       "4                                      No                        Yes   \n",
       "\n",
       "  Expired_Passport_Marriage HigherEducation_Uscitizen Employment_Uscitizen  \\\n",
       "0                        No                        No            Temporary   \n",
       "1                       Yes                        No                   FT   \n",
       "2                        No                        No                   PT   \n",
       "3                        No                        No                   PT   \n",
       "4                        No                        No            Temporary   \n",
       "\n",
       "  Employment_Immigrant Annual_Income_Immigrant Annual_Income_Uscitizen  \\\n",
       "0                   FT             $138,348.00              $49,296.00   \n",
       "1                   FT             $180,444.00             $176,304.00   \n",
       "2                   FT              $89,580.00              $47,184.00   \n",
       "3                   FT             $179,400.00              $58,092.00   \n",
       "4                   PT              $45,696.00              $57,312.00   \n",
       "\n",
       "  Sex_Immigrant Sex_Uscitizen HigherEducation_Immigrant Citizenship_Immigrant  \n",
       "0             M             F                        No               Vietnam  \n",
       "1             M             F                       Yes               Vietnam  \n",
       "2             M             F                       Yes             Guatemala  \n",
       "3             M             F                       Yes           El Salvador  \n",
       "4             M             F                        No           Philippines  "
      ]
     },
     "execution_count": 35,
     "metadata": {},
     "output_type": "execute_result"
    }
   ],
   "source": [
    "#split Fraud column\n",
    "X=dataset.drop('Fraud',axis=1)\n",
    "y=dataset['Fraud']\n",
    "X.head()"
   ]
  },
  {
   "cell_type": "code",
   "execution_count": 36,
   "metadata": {},
   "outputs": [
    {
     "data": {
      "text/plain": [
       "0       Yes\n",
       "1       Yes\n",
       "2       Yes\n",
       "3       Yes\n",
       "4       Yes\n",
       "       ... \n",
       "9995     No\n",
       "9996     No\n",
       "9997     No\n",
       "9998     No\n",
       "9999     No\n",
       "Name: Fraud, Length: 9960, dtype: object"
      ]
     },
     "execution_count": 36,
     "metadata": {},
     "output_type": "execute_result"
    }
   ],
   "source": [
    "y"
   ]
  },
  {
   "cell_type": "code",
   "execution_count": 37,
   "metadata": {},
   "outputs": [
    {
     "data": {
      "text/html": [
       "<div>\n",
       "<style scoped>\n",
       "    .dataframe tbody tr th:only-of-type {\n",
       "        vertical-align: middle;\n",
       "    }\n",
       "\n",
       "    .dataframe tbody tr th {\n",
       "        vertical-align: top;\n",
       "    }\n",
       "\n",
       "    .dataframe thead th {\n",
       "        text-align: right;\n",
       "    }\n",
       "</style>\n",
       "<table border=\"1\" class=\"dataframe\">\n",
       "  <thead>\n",
       "    <tr style=\"text-align: right;\">\n",
       "      <th></th>\n",
       "      <th>Years_Married_1</th>\n",
       "      <th>Years_Married_2</th>\n",
       "      <th>Years_Married_3</th>\n",
       "      <th>Years_Married_4</th>\n",
       "      <th>Years_Married_5</th>\n",
       "      <th>Years_Married_6</th>\n",
       "      <th>Years_Married_7</th>\n",
       "      <th>Years_Married_8</th>\n",
       "      <th>Years_Married_9</th>\n",
       "      <th>Years_Married_10</th>\n",
       "      <th>...</th>\n",
       "      <th>HigherEducation_Immigrant_Yes</th>\n",
       "      <th>Citizenship_Immigrant_Cuba</th>\n",
       "      <th>Citizenship_Immigrant_Dominican Republic</th>\n",
       "      <th>Citizenship_Immigrant_El Salvador</th>\n",
       "      <th>Citizenship_Immigrant_Guatemala</th>\n",
       "      <th>Citizenship_Immigrant_India</th>\n",
       "      <th>Citizenship_Immigrant_Mexico</th>\n",
       "      <th>Citizenship_Immigrant_Philippines</th>\n",
       "      <th>Citizenship_Immigrant_South Korea</th>\n",
       "      <th>Citizenship_Immigrant_Vietnam</th>\n",
       "    </tr>\n",
       "  </thead>\n",
       "  <tbody>\n",
       "    <tr>\n",
       "      <th>0</th>\n",
       "      <td>0</td>\n",
       "      <td>0</td>\n",
       "      <td>0</td>\n",
       "      <td>0</td>\n",
       "      <td>0</td>\n",
       "      <td>1</td>\n",
       "      <td>0</td>\n",
       "      <td>0</td>\n",
       "      <td>0</td>\n",
       "      <td>0</td>\n",
       "      <td>...</td>\n",
       "      <td>0</td>\n",
       "      <td>0</td>\n",
       "      <td>0</td>\n",
       "      <td>0</td>\n",
       "      <td>0</td>\n",
       "      <td>0</td>\n",
       "      <td>0</td>\n",
       "      <td>0</td>\n",
       "      <td>0</td>\n",
       "      <td>1</td>\n",
       "    </tr>\n",
       "    <tr>\n",
       "      <th>1</th>\n",
       "      <td>1</td>\n",
       "      <td>0</td>\n",
       "      <td>0</td>\n",
       "      <td>0</td>\n",
       "      <td>0</td>\n",
       "      <td>0</td>\n",
       "      <td>0</td>\n",
       "      <td>0</td>\n",
       "      <td>0</td>\n",
       "      <td>0</td>\n",
       "      <td>...</td>\n",
       "      <td>1</td>\n",
       "      <td>0</td>\n",
       "      <td>0</td>\n",
       "      <td>0</td>\n",
       "      <td>0</td>\n",
       "      <td>0</td>\n",
       "      <td>0</td>\n",
       "      <td>0</td>\n",
       "      <td>0</td>\n",
       "      <td>1</td>\n",
       "    </tr>\n",
       "    <tr>\n",
       "      <th>2</th>\n",
       "      <td>0</td>\n",
       "      <td>0</td>\n",
       "      <td>0</td>\n",
       "      <td>1</td>\n",
       "      <td>0</td>\n",
       "      <td>0</td>\n",
       "      <td>0</td>\n",
       "      <td>0</td>\n",
       "      <td>0</td>\n",
       "      <td>0</td>\n",
       "      <td>...</td>\n",
       "      <td>1</td>\n",
       "      <td>0</td>\n",
       "      <td>0</td>\n",
       "      <td>0</td>\n",
       "      <td>1</td>\n",
       "      <td>0</td>\n",
       "      <td>0</td>\n",
       "      <td>0</td>\n",
       "      <td>0</td>\n",
       "      <td>0</td>\n",
       "    </tr>\n",
       "    <tr>\n",
       "      <th>3</th>\n",
       "      <td>0</td>\n",
       "      <td>0</td>\n",
       "      <td>0</td>\n",
       "      <td>0</td>\n",
       "      <td>0</td>\n",
       "      <td>0</td>\n",
       "      <td>0</td>\n",
       "      <td>0</td>\n",
       "      <td>0</td>\n",
       "      <td>0</td>\n",
       "      <td>...</td>\n",
       "      <td>1</td>\n",
       "      <td>0</td>\n",
       "      <td>0</td>\n",
       "      <td>1</td>\n",
       "      <td>0</td>\n",
       "      <td>0</td>\n",
       "      <td>0</td>\n",
       "      <td>0</td>\n",
       "      <td>0</td>\n",
       "      <td>0</td>\n",
       "    </tr>\n",
       "    <tr>\n",
       "      <th>4</th>\n",
       "      <td>0</td>\n",
       "      <td>0</td>\n",
       "      <td>0</td>\n",
       "      <td>0</td>\n",
       "      <td>0</td>\n",
       "      <td>1</td>\n",
       "      <td>0</td>\n",
       "      <td>0</td>\n",
       "      <td>0</td>\n",
       "      <td>0</td>\n",
       "      <td>...</td>\n",
       "      <td>0</td>\n",
       "      <td>0</td>\n",
       "      <td>0</td>\n",
       "      <td>0</td>\n",
       "      <td>0</td>\n",
       "      <td>0</td>\n",
       "      <td>0</td>\n",
       "      <td>1</td>\n",
       "      <td>0</td>\n",
       "      <td>0</td>\n",
       "    </tr>\n",
       "  </tbody>\n",
       "</table>\n",
       "<p>5 rows × 12458 columns</p>\n",
       "</div>"
      ],
      "text/plain": [
       "   Years_Married_1  Years_Married_2  Years_Married_3  Years_Married_4  \\\n",
       "0                0                0                0                0   \n",
       "1                1                0                0                0   \n",
       "2                0                0                0                1   \n",
       "3                0                0                0                0   \n",
       "4                0                0                0                0   \n",
       "\n",
       "   Years_Married_5  Years_Married_6  Years_Married_7  Years_Married_8  \\\n",
       "0                0                1                0                0   \n",
       "1                0                0                0                0   \n",
       "2                0                0                0                0   \n",
       "3                0                0                0                0   \n",
       "4                0                1                0                0   \n",
       "\n",
       "   Years_Married_9  Years_Married_10  ...  HigherEducation_Immigrant_Yes  \\\n",
       "0                0                 0  ...                              0   \n",
       "1                0                 0  ...                              1   \n",
       "2                0                 0  ...                              1   \n",
       "3                0                 0  ...                              1   \n",
       "4                0                 0  ...                              0   \n",
       "\n",
       "   Citizenship_Immigrant_Cuba  Citizenship_Immigrant_Dominican Republic  \\\n",
       "0                           0                                         0   \n",
       "1                           0                                         0   \n",
       "2                           0                                         0   \n",
       "3                           0                                         0   \n",
       "4                           0                                         0   \n",
       "\n",
       "   Citizenship_Immigrant_El Salvador  Citizenship_Immigrant_Guatemala  \\\n",
       "0                                  0                                0   \n",
       "1                                  0                                0   \n",
       "2                                  0                                1   \n",
       "3                                  1                                0   \n",
       "4                                  0                                0   \n",
       "\n",
       "   Citizenship_Immigrant_India  Citizenship_Immigrant_Mexico  \\\n",
       "0                            0                             0   \n",
       "1                            0                             0   \n",
       "2                            0                             0   \n",
       "3                            0                             0   \n",
       "4                            0                             0   \n",
       "\n",
       "   Citizenship_Immigrant_Philippines  Citizenship_Immigrant_South Korea  \\\n",
       "0                                  0                                  0   \n",
       "1                                  0                                  0   \n",
       "2                                  0                                  0   \n",
       "3                                  0                                  0   \n",
       "4                                  1                                  0   \n",
       "\n",
       "   Citizenship_Immigrant_Vietnam  \n",
       "0                              1  \n",
       "1                              1  \n",
       "2                              0  \n",
       "3                              0  \n",
       "4                              0  \n",
       "\n",
       "[5 rows x 12458 columns]"
      ]
     },
     "execution_count": 37,
     "metadata": {},
     "output_type": "execute_result"
    }
   ],
   "source": [
    "#preprocessing #1\n",
    "X=pd.get_dummies(X, columns=X.columns, drop_first=True)\n",
    "X.head()"
   ]
  },
  {
   "cell_type": "code",
   "execution_count": 38,
   "metadata": {},
   "outputs": [],
   "source": [
    "#split test and training data into 20:80\n",
    "X_train, X_test, y_train, y_test = train_test_split(X, y, test_size=0.2, random_state=42)"
   ]
  },
  {
   "cell_type": "code",
   "execution_count": 39,
   "metadata": {},
   "outputs": [],
   "source": [
    "#preprocessing #2\n",
    "from sklearn.preprocessing import StandardScaler\n",
    "sc = StandardScaler()\n",
    "\n",
    "X_train = sc.fit_transform(X_train)\n",
    "X_test = sc.transform(X_test)"
   ]
  },
  {
   "cell_type": "code",
   "execution_count": 40,
   "metadata": {},
   "outputs": [],
   "source": [
    "from sklearn.model_selection import cross_val_predict, cross_val_score\n",
    "from sklearn.metrics import confusion_matrix, classification_report, accuracy_score\n",
    "\n",
    "#prepare for a training and test result reports \n",
    "def print_score(classifier, X_train, y_train, X_test, y_test, train=True):\n",
    "    if train == True:\n",
    "        print(\"Training results:\\n\")\n",
    "        print('Accuracy Score: {}\\n'.format(accuracy_score(y_train,classifier.predict(X_train))))\n",
    "        print('Classification Report:\\n{}\\n'.format(classification_report(y_train, classifier.predict(X_train))))\n",
    "        print('Confusion Matrix:\\n{}\\n'.format(confusion_matrix(y_train, classifier.predict(X_train))))\n",
    "        res = cross_val_score(classifier, X_train, y_train, cv=5, n_jobs=-1, scoring='accuracy')\n",
    "        print('Average Accuracy:\\t{}\\n'.format(res.mean()))\n",
    "        print('Standard Deviation:\\t{}'.format(res.std()))\n",
    "    elif train == False:\n",
    "        print(\"Test results:\\n\")\n",
    "        print('Accuracy Score: {}\\n'.format(accuracy_score(y_test,classifier.predict(X_test))))\n",
    "        print('Classification Report:\\n{}\\n'.format(classification_report(y_test, classifier.predict(X_test))))\n",
    "        print('Confusion Matrix:\\n{}\\n'.format(confusion_matrix(y_test,classifier.predict(X_test))))"
   ]
  },
  {
   "cell_type": "code",
   "execution_count": 41,
   "metadata": {},
   "outputs": [
    {
     "data": {
      "text/plain": [
       "RandomForestClassifier(criterion='entropy', n_estimators=3, random_state=42)"
      ]
     },
     "execution_count": 41,
     "metadata": {},
     "output_type": "execute_result"
    }
   ],
   "source": [
    "#Apply Random Forest Model \n",
    "from sklearn.ensemble import RandomForestClassifier\n",
    "classifier = RandomForestClassifier(n_estimators = 3, criterion='entropy', random_state=42)\n",
    "classifier.fit(X_train, y_train)"
   ]
  },
  {
   "cell_type": "code",
   "execution_count": 42,
   "metadata": {
    "scrolled": true
   },
   "outputs": [
    {
     "name": "stdout",
     "output_type": "stream",
     "text": [
      "Training results:\n",
      "\n",
      "Accuracy Score: 0.9781626506024096\n",
      "\n",
      "Classification Report:\n",
      "              precision    recall  f1-score   support\n",
      "\n",
      "          No       0.98      0.98      0.98      4023\n",
      "         Yes       0.98      0.98      0.98      3945\n",
      "\n",
      "    accuracy                           0.98      7968\n",
      "   macro avg       0.98      0.98      0.98      7968\n",
      "weighted avg       0.98      0.98      0.98      7968\n",
      "\n",
      "\n",
      "Confusion Matrix:\n",
      "[[3932   91]\n",
      " [  83 3862]]\n",
      "\n",
      "Average Accuracy:\t0.8724907669296587\n",
      "\n",
      "Standard Deviation:\t0.021824543468581745\n"
     ]
    }
   ],
   "source": [
    "#Training Results \n",
    "print_score(classifier, X_train, y_train, X_test, y_test, train=True)"
   ]
  },
  {
   "cell_type": "code",
   "execution_count": 43,
   "metadata": {},
   "outputs": [
    {
     "name": "stdout",
     "output_type": "stream",
     "text": [
      "Test results:\n",
      "\n",
      "Accuracy Score: 0.8704819277108434\n",
      "\n",
      "Classification Report:\n",
      "              precision    recall  f1-score   support\n",
      "\n",
      "          No       0.86      0.87      0.86       950\n",
      "         Yes       0.88      0.87      0.88      1042\n",
      "\n",
      "    accuracy                           0.87      1992\n",
      "   macro avg       0.87      0.87      0.87      1992\n",
      "weighted avg       0.87      0.87      0.87      1992\n",
      "\n",
      "\n",
      "Confusion Matrix:\n",
      "[[826 124]\n",
      " [134 908]]\n",
      "\n"
     ]
    }
   ],
   "source": [
    "#Test Results \n",
    "print_score(classifier, X_train, y_train, X_test, y_test, train=False)"
   ]
  },
  {
   "cell_type": "code",
   "execution_count": 44,
   "metadata": {},
   "outputs": [
    {
     "data": {
      "text/plain": [
       "array([0.00277803, 0.00399469, 0.00270457, ..., 0.00398394, 0.003348  ,\n",
       "       0.00373409])"
      ]
     },
     "execution_count": 44,
     "metadata": {},
     "output_type": "execute_result"
    }
   ],
   "source": [
    "#Feature importances\n",
    "classifier.feature_importances_"
   ]
  },
  {
   "cell_type": "code",
   "execution_count": 45,
   "metadata": {
    "scrolled": true
   },
   "outputs": [
    {
     "name": "stdout",
     "output_type": "stream",
     "text": [
      "(0, 20)\n",
      "(1, 12447)\n",
      "(2, 19)\n",
      "(3, 15)\n",
      "(4, 26)\n",
      "(5, 16)\n",
      "(6, 18)\n",
      "(7, 17)\n",
      "(8, 25)\n",
      "(9, 29)\n",
      "(10, 12446)\n",
      "(11, 27)\n",
      "(12, 28)\n",
      "(13, 23)\n",
      "(14, 12448)\n",
      "(15, 21)\n"
     ]
    }
   ],
   "source": [
    "#Sort the Features \n",
    "rank=classifier.feature_importances_\n",
    "indices = np.argsort(rank)[::-1]\n",
    "#Select top_k features\n",
    "top_k = 16\n",
    "new_indices = indices[:top_k]\n",
    "for i in enumerate(new_indices):\n",
    "    print(i)"
   ]
  },
  {
   "cell_type": "code",
   "execution_count": 46,
   "metadata": {
    "scrolled": true
   },
   "outputs": [
    {
     "name": "stdout",
     "output_type": "stream",
     "text": [
      "Feature ranking:\n",
      "1. ChildrenBeforeMarriage_Uscitizen_Yes (0.124106)\n",
      "2. Sex_Uscitizen_M (0.051085)\n",
      "3. Children_5 (0.048817)\n",
      "4. Children_1 (0.048354)\n",
      "5. HigherEducation_Uscitizen_Yes (0.048116)\n",
      "6. Children_2 (0.047096)\n",
      "7. Children_4 (0.043417)\n",
      "8. Children_3 (0.025670)\n",
      "9. Expired_Passport_Marriage_Yes (0.021788)\n",
      "10. Employment_Uscitizen_Unemployed (0.017337)\n",
      "11. Sex_Immigrant_M (0.016105)\n",
      "12. Employment_Uscitizen_PT (0.013437)\n",
      "13. Employment_Uscitizen_Temporary (0.012884)\n",
      "14. Foreign_Residence_Requirement_Immigrant_Yes (0.008892)\n",
      "15. HigherEducation_Immigrant_Yes (0.008561)\n",
      "16. Previously_Married_Uscitizen_Yes (0.007785)\n"
     ]
    }
   ],
   "source": [
    "print(\"Feature ranking:\")\n",
    "width_graph =[]\n",
    "\n",
    "for f in range(top_k):\n",
    "    print(\"%d. %s (%f)\" % (f + 1, X.columns[new_indices[f]], rank[new_indices[f]]))\n",
    "    width_graph.append(rank[new_indices[f]])"
   ]
  },
  {
   "cell_type": "code",
   "execution_count": 47,
   "metadata": {
    "scrolled": false
   },
   "outputs": [
    {
     "name": "stdout",
     "output_type": "stream",
     "text": [
      "Index(['ChildrenBeforeMarriage_Uscitizen_Yes', 'Sex_Uscitizen_M', 'Children_5',\n",
      "       'Children_1', 'HigherEducation_Uscitizen_Yes', 'Children_2',\n",
      "       'Children_4', 'Children_3', 'Expired_Passport_Marriage_Yes',\n",
      "       'Employment_Uscitizen_Unemployed', 'Sex_Immigrant_M',\n",
      "       'Employment_Uscitizen_PT', 'Employment_Uscitizen_Temporary',\n",
      "       'Foreign_Residence_Requirement_Immigrant_Yes',\n",
      "       'HigherEducation_Immigrant_Yes', 'Previously_Married_Uscitizen_Yes'],\n",
      "      dtype='object')\n"
     ]
    },
    {
     "data": {
      "image/png": "[encoded data removed]",
      "text/plain": [
       "<Figure size 432x288 with 1 Axes>"
      ]
     },
     "metadata": {
      "needs_background": "light"
     },
     "output_type": "display_data"
    }
   ],
   "source": [
    "#Create a feature importance chart\n",
    "plt.figure()\n",
    "plt.title(\"Feature importances\")\n",
    "top_features = X.columns[new_indices]\n",
    "print(top_features)\n",
    "plt.barh(top_features[::-1], width_graph[::-1], align=\"center\")\n",
    "plt.show()"
   ]
  },
  {
   "cell_type": "code",
   "execution_count": 48,
   "metadata": {},
   "outputs": [
    {
     "ename": "AttributeError",
     "evalue": "'numpy.ndarray' object has no attribute 'roc_curve'",
     "output_type": "error",
     "traceback": [
      "\u001b[1;31m---------------------------------------------------------------------------\u001b[0m",
      "\u001b[1;31mAttributeError\u001b[0m                            Traceback (most recent call last)",
      "\u001b[1;32m<ipython-input-48-a535e557faff>\u001b[0m in \u001b[0;36m<module>\u001b[1;34m\u001b[0m\n\u001b[0;32m      4\u001b[0m \u001b[1;33m\u001b[0m\u001b[0m\n\u001b[0;32m      5\u001b[0m \u001b[0my_pred_proba\u001b[0m \u001b[1;33m=\u001b[0m \u001b[0mclassifier\u001b[0m\u001b[1;33m.\u001b[0m\u001b[0mpredict_proba\u001b[0m\u001b[1;33m(\u001b[0m\u001b[0mX_test\u001b[0m\u001b[1;33m)\u001b[0m\u001b[1;33m[\u001b[0m\u001b[1;33m:\u001b[0m\u001b[1;33m:\u001b[0m\u001b[1;33m,\u001b[0m\u001b[1;36m1\u001b[0m\u001b[1;33m]\u001b[0m\u001b[1;33m\u001b[0m\u001b[1;33m\u001b[0m\u001b[0m\n\u001b[1;32m----> 6\u001b[1;33m \u001b[0mfpr\u001b[0m\u001b[1;33m,\u001b[0m \u001b[0mtpr\u001b[0m\u001b[1;33m,\u001b[0m \u001b[0m_\u001b[0m \u001b[1;33m=\u001b[0m \u001b[0mmetrics\u001b[0m\u001b[1;33m.\u001b[0m\u001b[0mroc_curve\u001b[0m\u001b[1;33m(\u001b[0m\u001b[0my_test\u001b[0m\u001b[1;33m,\u001b[0m  \u001b[0my_pred_proba\u001b[0m\u001b[1;33m,\u001b[0m \u001b[0mpos_label\u001b[0m \u001b[1;33m=\u001b[0m \u001b[1;34m'Yes'\u001b[0m\u001b[1;33m)\u001b[0m\u001b[1;33m\u001b[0m\u001b[1;33m\u001b[0m\u001b[0m\n\u001b[0m\u001b[0;32m      7\u001b[0m \u001b[0mauc\u001b[0m \u001b[1;33m=\u001b[0m \u001b[0mmetrics\u001b[0m\u001b[1;33m.\u001b[0m\u001b[0mroc_auc_score\u001b[0m\u001b[1;33m(\u001b[0m\u001b[0my_test\u001b[0m\u001b[1;33m,\u001b[0m \u001b[0my_pred_proba\u001b[0m\u001b[1;33m)\u001b[0m\u001b[1;33m\u001b[0m\u001b[1;33m\u001b[0m\u001b[0m\n\u001b[0;32m      8\u001b[0m \u001b[0mplt\u001b[0m\u001b[1;33m.\u001b[0m\u001b[0mplot\u001b[0m\u001b[1;33m(\u001b[0m\u001b[0mfpr\u001b[0m\u001b[1;33m,\u001b[0m\u001b[0mtpr\u001b[0m\u001b[1;33m,\u001b[0m\u001b[0mlabel\u001b[0m\u001b[1;33m=\u001b[0m\u001b[1;34m\"auc score=\"\u001b[0m\u001b[1;33m+\u001b[0m\u001b[0mstr\u001b[0m\u001b[1;33m(\u001b[0m\u001b[0mauc\u001b[0m\u001b[1;33m)\u001b[0m\u001b[1;33m)\u001b[0m\u001b[1;33m\u001b[0m\u001b[1;33m\u001b[0m\u001b[0m\n",
      "\u001b[1;31mAttributeError\u001b[0m: 'numpy.ndarray' object has no attribute 'roc_curve'"
     ]
    }
   ],
   "source": [
    "# ROC_AUC curve\n",
    "from sklearn.metrics import roc_curve\n",
    "metrics = confusion_matrix(y_train, classifier.predict(X_train))\n",
    "\n",
    "y_pred_proba = classifier.predict_proba(X_test)[::,1]\n",
    "fpr, tpr, _ = metrics.roc_curve(y_test,  y_pred_proba, pos_label = 'Yes')\n",
    "auc = metrics.roc_auc_score(y_test, y_pred_proba)\n",
    "plt.plot(fpr,tpr,label=\"auc score=\"+str(auc))\n",
    "plt.legend(loc=4)\n",
    "plt.show()"
   ]
  },
  {
   "cell_type": "code",
   "execution_count": null,
   "metadata": {},
   "outputs": [],
   "source": [
    "#ROC_AUC score\n",
    "from sklearn.metrics import roc_auc_score\n",
    "roc_auc_score(y_test, classifier.predict_proba(X_test)[:,1])"
   ]
  },
  {
   "cell_type": "code",
   "execution_count": 29,
   "metadata": {},
   "outputs": [],
   "source": [
    "#Import New Dataset for Testing"
   ]
  },
  {
   "cell_type": "code",
   "execution_count": 66,
   "metadata": {},
   "outputs": [
    {
     "name": "stdout",
     "output_type": "stream",
     "text": [
      "(9960, 17)\n",
      "['Years_Married', 'Children', 'ChildrenBeforeMarriage_Uscitizen', 'Previously_Married_Uscitizen', 'Previously_Denied_Visa_Immigrant', 'Foreign_Residence_Requirement_Immigrant', 'History_of_Crime_UScitizen', 'Expired_Passport_Marriage', 'HigherEducation_Uscitizen', 'Employment_Uscitizen', 'Employment_Immigrant', 'Annual_Income_Immigrant', 'Annual_Income_Uscitizen', 'Sex_Immigrant', 'Sex_Uscitizen', 'HigherEducation_Immigrant', 'Citizenship_Immigrant']\n"
     ]
    }
   ],
   "source": [
    "#Input the new dataset into the dir\n",
    "NewX=pd.read_csv('NewData.csv')\n",
    "NewX=NewX.dropna()\n",
    "NewX=NewX.filter([\"Fraud\",\"Years_Married\", \"Children\", \"ChildrenBeforeMarriage_Uscitizen\",\n",
    "                        \"Previously_Married_Uscitizen\", \"Previously_Denied_Visa_Immigrant\",\n",
    "                        \"Foreign_Residence_Requirement_Immigrant\",\"History_of_Crime_UScitizen\",\n",
    "                        \"Expired_Passport_Marriage\" ,\"HigherEducation_Uscitizen\", \"Employment_Uscitizen\",\n",
    "                        \"Employment_Immigrant\",\"Annual_Income_Immigrant\",\"Annual_Income_Uscitizen\",\n",
    "                        \"Sex_Immigrant\",\"Sex_Uscitizen\",\"HigherEducation_Immigrant\",\"Citizenship_Immigrant\"])"
   ]
  },
  {
   "cell_type": "code",
   "execution_count": 76,
   "metadata": {},
   "outputs": [
    {
     "data": {
      "text/plain": [
       "RandomForestClassifier(criterion='entropy', n_estimators=3, random_state=42)"
      ]
     },
     "execution_count": 76,
     "metadata": {},
     "output_type": "execute_result"
    }
   ],
   "source": [
    "#Preprocessing\n",
    "NewX=pd.get_dummies(NewX, columns=NewX.columns, drop_first=True)\n",
    "NewX_train, NewX_test, y_train, y_test = train_test_split(NewX, y, test_size=0.2, random_state=42)\n",
    "sc = StandardScaler()\n",
    "NewX_train = sc.fit_transform(NewX_train)\n",
    "NewX_test = sc.transform(NewX_test)\n",
    "classifier = RandomForestClassifier(n_estimators = 3, criterion='entropy', random_state=42)\n",
    "classifier.fit(NewX_train, y_train)"
   ]
  },
  {
   "cell_type": "code",
   "execution_count": 77,
   "metadata": {},
   "outputs": [
    {
     "name": "stdout",
     "output_type": "stream",
     "text": [
      "Training results:\n",
      "\n",
      "Accuracy Score: 0.9809236947791165\n",
      "\n",
      "Classification Report:\n",
      "              precision    recall  f1-score   support\n",
      "\n",
      "          No       0.98      0.98      0.98      4023\n",
      "         Yes       0.98      0.98      0.98      3945\n",
      "\n",
      "    accuracy                           0.98      7968\n",
      "   macro avg       0.98      0.98      0.98      7968\n",
      "weighted avg       0.98      0.98      0.98      7968\n",
      "\n",
      "\n",
      "Confusion Matrix:\n",
      "[[3945   78]\n",
      " [  74 3871]]\n",
      "\n",
      "Average Accuracy:\t0.870608551685897\n",
      "\n",
      "Standard Deviation:\t0.01501991277303383\n"
     ]
    }
   ],
   "source": [
    "#Training Results with the new dataset\n",
    "print_score(classifier, NewX_train, y_train, NewX_test, y_test, train=True)"
   ]
  },
  {
   "cell_type": "code",
   "execution_count": 79,
   "metadata": {},
   "outputs": [
    {
     "name": "stdout",
     "output_type": "stream",
     "text": [
      "Test results:\n",
      "\n",
      "Accuracy Score: 0.875\n",
      "\n",
      "Classification Report:\n",
      "              precision    recall  f1-score   support\n",
      "\n",
      "          No       0.86      0.89      0.87       950\n",
      "         Yes       0.89      0.86      0.88      1042\n",
      "\n",
      "    accuracy                           0.88      1992\n",
      "   macro avg       0.87      0.88      0.87      1992\n",
      "weighted avg       0.88      0.88      0.88      1992\n",
      "\n",
      "\n",
      "Confusion Matrix:\n",
      "[[842 108]\n",
      " [141 901]]\n",
      "\n"
     ]
    }
   ],
   "source": [
    "#Test Results with the new dataset\n",
    "print_score(classifier, NewX_train, y_train, NewX_test, y_test, train=False)"
   ]
  },
  {
   "cell_type": "code",
   "execution_count": 80,
   "metadata": {},
   "outputs": [
    {
     "name": "stdout",
     "output_type": "stream",
     "text": [
      "Feature ranking:\n",
      "1. ChildrenBeforeMarriage_Uscitizen_Yes (0.124106)\n",
      "2. Sex_Uscitizen_M (0.051085)\n",
      "3. Children_5 (0.048817)\n",
      "4. Children_1 (0.048354)\n",
      "5. HigherEducation_Uscitizen_Yes (0.048116)\n",
      "6. Children_2 (0.047096)\n",
      "7. Children_4 (0.043417)\n",
      "8. Children_3 (0.025670)\n",
      "9. Expired_Passport_Marriage_Yes (0.021788)\n",
      "10. Employment_Uscitizen_Unemployed (0.017337)\n",
      "11. Sex_Immigrant_M (0.016105)\n",
      "12. Employment_Uscitizen_PT (0.013437)\n",
      "13. Employment_Uscitizen_Temporary (0.012884)\n",
      "14. Foreign_Residence_Requirement_Immigrant_Yes (0.008892)\n",
      "15. HigherEducation_Immigrant_Yes (0.008561)\n",
      "16. Previously_Married_Uscitizen_Yes (0.007785)\n"
     ]
    }
   ],
   "source": [
    "#Feature importance of the new data\n",
    "print(\"Feature ranking:\")\n",
    "width_graph =[]\n",
    "\n",
    "for f in range(top_k):\n",
    "    print(\"%d. %s (%f)\" % (f + 1, NewX.columns[new_indices[f]], rank[new_indices[f]]))\n",
    "    width_graph.append(rank[new_indices[f]])"
   ]
  },
  {
   "cell_type": "code",
   "execution_count": 83,
   "metadata": {},
   "outputs": [
    {
     "name": "stdout",
     "output_type": "stream",
     "text": [
      "Index(['ChildrenBeforeMarriage_Uscitizen_Yes', 'Sex_Uscitizen_M', 'Children_5',\n",
      "       'Children_1', 'HigherEducation_Uscitizen_Yes', 'Children_2',\n",
      "       'Children_4', 'Children_3', 'Expired_Passport_Marriage_Yes',\n",
      "       'Employment_Uscitizen_Unemployed', 'Sex_Immigrant_M',\n",
      "       'Employment_Uscitizen_PT', 'Employment_Uscitizen_Temporary',\n",
      "       'Foreign_Residence_Requirement_Immigrant_Yes',\n",
      "       'HigherEducation_Immigrant_Yes', 'Previously_Married_Uscitizen_Yes'],\n",
      "      dtype='object')\n"
     ]
    },
    {
     "data": {
      "image/png": "[encoded data removed]",
      "text/plain": [
       "<Figure size 432x288 with 1 Axes>"
      ]
     },
     "metadata": {
      "needs_background": "light"
     },
     "output_type": "display_data"
    }
   ],
   "source": [
    "#Create a feature importance chart\n",
    "plt.figure()\n",
    "plt.title(\"Feature importances\")\n",
    "top_features = NewX.columns[new_indices]\n",
    "print(top_features)\n",
    "plt.barh(top_features[::-1], width_graph[::-1], align=\"center\")\n",
    "plt.show()"
   ]
  },
  {
   "cell_type": "code",
   "execution_count": 84,
   "metadata": {},
   "outputs": [
    {
     "data": {
      "text/plain": [
       "0.9275401555712699"
      ]
     },
     "execution_count": 84,
     "metadata": {},
     "output_type": "execute_result"
    }
   ],
   "source": [
    "#ROC_AUC score\n",
    "roc_auc_score(y_test, classifier.predict_proba(NewX_test)[:,1])"
   ]
  },
  {
   "cell_type": "code",
   "execution_count": null,
   "metadata": {},
   "outputs": [],
   "source": []
  }
 ],
 "metadata": {
  "kernelspec": {
   "display_name": "Python 3",
   "language": "python",
   "name": "python3"
  },
  "language_info": {
   "codemirror_mode": {
    "name": "ipython",
    "version": 3
   },
   "file_extension": ".py",
   "mimetype": "text/x-python",
   "name": "python",
   "nbconvert_exporter": "python",
   "pygments_lexer": "ipython3",
   "version": "3.7.6"
  }
 },
 "nbformat": 4,
 "nbformat_minor": 4
}
